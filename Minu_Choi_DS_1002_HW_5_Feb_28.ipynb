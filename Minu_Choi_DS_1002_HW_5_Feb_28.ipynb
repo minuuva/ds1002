{
  "nbformat": 4,
  "nbformat_minor": 0,
  "metadata": {
    "colab": {
      "provenance": [],
      "authorship_tag": "ABX9TyNTolzYv2ZlZ0Z1pi8091zy",
      "include_colab_link": true
    },
    "kernelspec": {
      "name": "python3",
      "display_name": "Python 3"
    },
    "language_info": {
      "name": "python"
    }
  },
  "cells": [
    {
      "cell_type": "markdown",
      "metadata": {
        "id": "view-in-github",
        "colab_type": "text"
      },
      "source": [
        "<a href=\"https://colab.research.google.com/github/minuuva/ds1002/blob/main/Minu_Choi_DS_1002_HW_5_Feb_28.ipynb\" target=\"_parent\"><img src=\"https://colab.research.google.com/assets/colab-badge.svg\" alt=\"Open In Colab\"/></a>"
      ]
    },
    {
      "cell_type": "code",
      "execution_count": 12,
      "metadata": {
        "colab": {
          "base_uri": "https://localhost:8080/"
        },
        "id": "hSOQy3Hg4Trn",
        "outputId": "b2a0348a-b0ea-4516-91de-3bbda6f1c3f9"
      },
      "outputs": [
        {
          "output_type": "stream",
          "name": "stdout",
          "text": [
            "Requirement already satisfied: english_words in /usr/local/lib/python3.10/dist-packages (2.0.1)\n"
          ]
        }
      ],
      "source": [
        "#0\n",
        "!pip install english_words\n",
        "from english_words import get_english_words_set\n",
        "words = get_english_words_set(['web2'], lower=True)"
      ]
    },
    {
      "cell_type": "code",
      "source": [
        "#1\n",
        "print(type(words)) #returns 'set'\n",
        "wordlist = list(words) #converting set to list\n",
        "print(len(wordlist))"
      ],
      "metadata": {
        "colab": {
          "base_uri": "https://localhost:8080/"
        },
        "id": "I6YYj-e44cIn",
        "outputId": "778dc4e3-a65d-40b3-91f4-e9ac3349d7ba"
      },
      "execution_count": 13,
      "outputs": [
        {
          "output_type": "stream",
          "name": "stdout",
          "text": [
            "<class 'set'>\n",
            "234450\n"
          ]
        }
      ]
    },
    {
      "cell_type": "code",
      "source": [
        "#2\n",
        "wordlist[:10]\n",
        "# I noticed that the words are in no particular order. The position of these words seem randomized."
      ],
      "metadata": {
        "colab": {
          "base_uri": "https://localhost:8080/"
        },
        "id": "3sJGJKKn8fJO",
        "outputId": "bd7c5a7a-b68c-4696-9a43-4e81ab82e05c"
      },
      "execution_count": 14,
      "outputs": [
        {
          "output_type": "execute_result",
          "data": {
            "text/plain": [
              "['tallowberry',\n",
              " 'subautomatic',\n",
              " 'hibernization',\n",
              " 'leashless',\n",
              " 'tripersonality',\n",
              " 'unpoured',\n",
              " 'unscalable',\n",
              " 'ventroposterior',\n",
              " 'gathering',\n",
              " 'bulkheaded']"
            ]
          },
          "metadata": {},
          "execution_count": 14
        }
      ]
    },
    {
      "cell_type": "code",
      "source": [
        "#3\n",
        "alpha_list = sorted(wordlist)\n",
        "print(alpha_list[:10])"
      ],
      "metadata": {
        "colab": {
          "base_uri": "https://localhost:8080/"
        },
        "id": "gLjm-E2L_IsA",
        "outputId": "91d5dae1-a05e-4a77-89e1-b15f3367e448"
      },
      "execution_count": 16,
      "outputs": [
        {
          "output_type": "stream",
          "name": "stdout",
          "text": [
            "['a', 'aa', 'aal', 'aalii', 'aam', 'aani', 'aardvark', 'aardwolf', 'aaron', 'aaronic']\n"
          ]
        }
      ]
    },
    {
      "cell_type": "code",
      "source": [
        "#4\n",
        "words_startingwith_a = sum(word.startswith('a') for word in alpha_list)\n",
        "print(words_startingwith_a)"
      ],
      "metadata": {
        "colab": {
          "base_uri": "https://localhost:8080/"
        },
        "id": "GqNn3YAk_hu6",
        "outputId": "87a68216-86c7-41fc-c89d-ae765a46455b"
      },
      "execution_count": 18,
      "outputs": [
        {
          "output_type": "stream",
          "name": "stdout",
          "text": [
            "16982\n"
          ]
        }
      ]
    },
    {
      "cell_type": "code",
      "source": [
        "#5\n",
        "words_with_q = sum('q' in word for word in alpha_list)\n",
        "print(words_with_q)\n",
        "\n",
        "words_without_e = sum('e' not in word for word in alpha_list)\n",
        "print(words_without_e / len(words)) #multiplying the output by 100 would give the percentage."
      ],
      "metadata": {
        "colab": {
          "base_uri": "https://localhost:8080/"
        },
        "id": "5NSkbRGDAzBe",
        "outputId": "0a8bfd41-fada-440c-c893-55cc38c350b8"
      },
      "execution_count": 23,
      "outputs": [
        {
          "output_type": "stream",
          "name": "stdout",
          "text": [
            "3624\n",
            "0.32828321603753463\n"
          ]
        }
      ]
    },
    {
      "cell_type": "code",
      "source": [
        "#6\n",
        "import numpy as np\n",
        "wordlistnp = np.array(alpha_list)\n",
        "alphabet = [chr(i) for i in range(ord('a'),ord('z')+1)]\n",
        "# This code creates a list of all the letters in the English alphabet. Because it is in square brackets, it makes a list.\n",
        "# The ord() function finds the number for a character. In this case, from 'a' to 'z'. The +1 ensures that the list stops at 'z'.\n",
        "# The for loop means that for each value in the range, the chr(i) will convert that number back into its corresponding letter.\n",
        "print(alphabet)"
      ],
      "metadata": {
        "colab": {
          "base_uri": "https://localhost:8080/"
        },
        "id": "YSFnBkaCtaxe",
        "outputId": "9468714b-56f1-4416-9060-00e67f8a254e"
      },
      "execution_count": 24,
      "outputs": [
        {
          "output_type": "stream",
          "name": "stdout",
          "text": [
            "['a', 'b', 'c', 'd', 'e', 'f', 'g', 'h', 'i', 'j', 'k', 'l', 'm', 'n', 'o', 'p', 'q', 'r', 's', 't', 'u', 'v', 'w', 'x', 'y', 'z']\n"
          ]
        }
      ]
    },
    {
      "cell_type": "code",
      "source": [
        "#7\n",
        "import matplotlib.pyplot as plt\n",
        "\n",
        "x = alphabet\n",
        "y = [sum(word.startswith(letter) for word in alpha_list) for letter in alphabet]\n",
        "# 'word.startswith(letter)' returns 'True' if the word starts with a certain letter, but if not, it returns 'False.'\n",
        "# the 'sum()' function adds up these 'True' and 'False' for each word in alpha_list.\n",
        "\n",
        "plt.bar(x, y, color='g')\n",
        "plt.plot()\n",
        "\n",
        "plt.xlabel(\"alphabet\")\n",
        "plt.ylabel(\"number of words\")\n",
        "plt.title(\"Number of Words Starting With Each Letter in the Alphabet\")\n",
        "plt.show()"
      ],
      "metadata": {
        "colab": {
          "base_uri": "https://localhost:8080/",
          "height": 472
        },
        "id": "8_KnJZsNw6Ib",
        "outputId": "21f7dcb3-3ba6-4907-a811-ba1a5bd152ea"
      },
      "execution_count": 26,
      "outputs": [
        {
          "output_type": "display_data",
          "data": {
            "text/plain": [
              "<Figure size 640x480 with 1 Axes>"
            ],
            "image/png": "[encoded data removed]"
          },
          "metadata": {}
        }
      ]
    },
    {
      "cell_type": "code",
      "source": [
        "#8\n",
        "six_longest = sorted(alpha_list, key = len, reverse = True) [:6]\n",
        "# The key is set to len; it will sort alpha_list based on the length of words.\n",
        "# The 'reverse = True' will sort alpha_list in descending order which will have the longest words first.\n",
        "print(six_longest)"
      ],
      "metadata": {
        "colab": {
          "base_uri": "https://localhost:8080/"
        },
        "id": "GW2NO9nx2eq1",
        "outputId": "f55d3e3b-3ac5-42e0-f139-c967fbf62c35"
      },
      "execution_count": 27,
      "outputs": [
        {
          "output_type": "stream",
          "name": "stdout",
          "text": [
            "['antidisestablishmentarianism', 'formaldehydesulphoxylate', 'pathologicopsychological', 'scientificophilosophical', 'tetraiodophenolphthalein', 'thyroparathyroidectomize']\n"
          ]
        }
      ]
    },
    {
      "cell_type": "code",
      "source": [
        "#9\n",
        "word_length_counts = {}\n",
        "# This dictionary will store the number of words for each length.\n",
        "# As we learned in class, the keys are the lengths of the words, and the values are the number of words of each length.\n",
        "\n",
        "for word in alpha_list: # Begins a loop that iterates each word in alpha_list.\n",
        "    length = len(word) # Calculates the length of the current word\n",
        "    if length in word_length_counts:\n",
        "        word_length_counts[length] += 1 # If the length of the current word is a key, it increases the count for this word length.\n",
        "    else:\n",
        "        word_length_counts[length] = 1 # If the length of the current word is not in a key, this creates a new key-value pair and\n",
        "        # will begin to count for this word length.\n",
        "\n",
        "x = list(word_length_counts.keys()) # The x-axis of the histogram is set to the keys which are the length of the words.\n",
        "y = [word_length_counts[key] for key in x] # The y-axis is set to the values which are the number of words of each length.\n",
        "\n",
        "plt.bar(x, y, color='blue')\n",
        "\n",
        "plt.xlabel('Length of Words')\n",
        "plt.ylabel('Number of Words for Each Length')\n",
        "plt.title('Histogram of Number of Words of Each Lengths')\n",
        "plt.show()\n",
        "# The most common length of a word in alpha_list is 9, shown by the peak of the histogram."
      ],
      "metadata": {
        "colab": {
          "base_uri": "https://localhost:8080/",
          "height": 472
        },
        "id": "CFgUDm_w3Z5R",
        "outputId": "4af70a28-9383-4cf8-c40b-ccc60da6cbb0"
      },
      "execution_count": 28,
      "outputs": [
        {
          "output_type": "display_data",
          "data": {
            "text/plain": [
              "<Figure size 640x480 with 1 Axes>"
            ],
            "image/png": "[encoded data removed]"
          },
          "metadata": {}
        }
      ]
    },
    {
      "cell_type": "code",
      "source": [
        "#11\n",
        "words_with_v_and_a = sum('v'in word and 'a' in word for word in alpha_list)\n",
        "print(words_with_v_and_a)\n",
        "\n",
        "words_with_w_and_l = sum('w'in word and 'l' in word for word in alpha_list)\n",
        "print(words_with_w_and_l)\n",
        "# In order to get the output, the system has to loop through alpha_list once.\n",
        "# It took my computer 0 second to run these codes according to Google Colab."
      ],
      "metadata": {
        "colab": {
          "base_uri": "https://localhost:8080/"
        },
        "id": "VPu4jSavUeyE",
        "outputId": "ad218fc8-a164-49dd-ba5a-6093e8f84900"
      },
      "execution_count": 30,
      "outputs": [
        {
          "output_type": "stream",
          "name": "stdout",
          "text": [
            "11347\n",
            "4822\n"
          ]
        }
      ]
    },
    {
      "cell_type": "code",
      "source": [
        "# (Not a questions in the assignment, this was an attempt at a challenge given in class)\n",
        "alphabet = [chr(i) for i in range(ord('a'), ord('z')+1)]\n",
        "\n",
        "# Dictionary to hold the count of words starting with each letter\n",
        "words_starting_with = {letter: 0 for letter in alphabet}\n",
        "\n",
        "for word in alpha_list:\n",
        "    if word[0] in words_starting_with:\n",
        "        words_starting_with[word[0]] += 1\n",
        "\n",
        "print(words_starting_with)"
      ],
      "metadata": {
        "colab": {
          "base_uri": "https://localhost:8080/"
        },
        "id": "Esnk2WsWVafK",
        "outputId": "0fda861d-fa0c-4587-df47-b05c59d5d63c"
      },
      "execution_count": 33,
      "outputs": [
        {
          "output_type": "stream",
          "name": "stdout",
          "text": [
            "{'a': 16982, 'b': 10970, 'c': 19789, 'd': 10853, 'e': 8705, 'f': 6841, 'g': 6772, 'h': 8997, 'i': 8787, 'j': 1604, 'k': 2242, 'l': 6234, 'm': 12516, 'n': 6747, 'o': 7831, 'p': 24342, 'q': 1148, 'r': 9618, 's': 24937, 't': 12855, 'u': 16364, 'v': 3418, 'w': 3913, 'x': 380, 'y': 663, 'z': 942}\n"
          ]
        }
      ]
    },
    {
      "cell_type": "code",
      "source": [
        "#Bonus 1\n",
        "pair_counts = {} # starts an empty dictionary\n",
        "\n",
        "for first_letter in range(ord('a'), ord('z') + 1):\n",
        "  # this starts a loop that will iterate over each letter as the first letter in the pair.\n",
        "  # the reason for using the 'ord()' function is because the 'range()' function cannot iterate over characters.\n",
        "    for second_letter in range(first_letter + 1, ord('z') + 1):\n",
        "      # this begins a nested loop that starts with the letter following first_letter and goes through 'z'\n",
        "      # it will create pairs such as 'ab' but not pairs such as 'ba' or 'aa'\n",
        "        pair = chr(first_letter) + chr(second_letter)\n",
        "        # this will convert the letters back to their character form because we are interested in knowing the results in letters not integers.\n",
        "        pair_counts[pair] = sum(pair[0] in word and pair[1] in word for word in alpha_list)\n",
        "        # this counts the number of words in alpha_list that contain both letters in the pair\n",
        "        # it then allocates this count to the correct entry in the dictionary.\n",
        "\n",
        "max_pair = max(pair_counts, key=pair_counts.get)\n",
        "# this finds the letter pair, which is the key, in pair_counts with the highest value\n",
        "max_count = pair_counts[max_pair]\n",
        "# this returns the count of max_pair\n",
        "min_pair = min(pair_counts, key=pair_counts.get)\n",
        "# this finds the letter pair, which is the key, in pair_counts with the lowest value\n",
        "min_count = pair_counts[min_pair]\n",
        "# this returns the count of min_pair\n",
        "\n",
        "print(max_pair, max_count, min_pair, min_count)"
      ],
      "metadata": {
        "colab": {
          "base_uri": "https://localhost:8080/"
        },
        "id": "4Bvf22OI7qQZ",
        "outputId": "51530c24-d083-40fb-d31f-2f175aa3c11e"
      },
      "execution_count": 34,
      "outputs": [
        {
          "output_type": "stream",
          "name": "stdout",
          "text": [
            "ei 93254 jx 30\n"
          ]
        }
      ]
    }
  ]
}