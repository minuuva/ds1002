{
  "cells": [
    {
      "cell_type": "markdown",
      "metadata": {
        "id": "view-in-github",
        "colab_type": "text"
      },
      "source": [
        "<a href=\"https://colab.research.google.com/github/minuuva/ds1002/blob/main/Minu_Choi_DS_1002_06_Pandas_exercises.ipynb\" target=\"_parent\"><img src=\"https://colab.research.google.com/assets/colab-badge.svg\" alt=\"Open In Colab\"/></a>"
      ]
    },
    {
      "cell_type": "markdown",
      "metadata": {
        "id": "L_nKffgWPs-1"
      },
      "source": [
        "## Pandas exercises 1\n",
        "\n",
        "1. Import dependencies"
      ]
    },
    {
      "cell_type": "code",
      "execution_count": 20,
      "metadata": {
        "id": "hASl6yoNPs-2"
      },
      "outputs": [],
      "source": [
        "import pandas as pd"
      ]
    },
    {
      "cell_type": "markdown",
      "metadata": {
        "id": "33KUt_fEPs-2"
      },
      "source": [
        "---"
      ]
    },
    {
      "cell_type": "code",
      "execution_count": 21,
      "metadata": {
        "id": "ZZmr1aIoPs-3"
      },
      "outputs": [],
      "source": [
        "list = [98, 24, 46, 87, 33]"
      ]
    },
    {
      "cell_type": "markdown",
      "metadata": {
        "id": "jGSEPEqXPs-3"
      },
      "source": [
        "2. Convert `list` to a pandas series using `pd.Series`"
      ]
    },
    {
      "cell_type": "code",
      "execution_count": 22,
      "metadata": {
        "id": "nZ1y9HF6Ps-3",
        "colab": {
          "base_uri": "https://localhost:8080/"
        },
        "outputId": "828fc178-14ff-4553-9c95-829d8df50c54"
      },
      "outputs": [
        {
          "output_type": "execute_result",
          "data": {
            "text/plain": [
              "0    98\n",
              "1    24\n",
              "2    46\n",
              "3    87\n",
              "4    33\n",
              "dtype: int64"
            ]
          },
          "metadata": {},
          "execution_count": 22
        }
      ],
      "source": [
        "pdseries = pd.Series(list)\n",
        "pdseries"
      ]
    },
    {
      "cell_type": "markdown",
      "metadata": {
        "id": "rORNi5YyPs-4"
      },
      "source": [
        "3. Take the above series and add an index that starts at 2 and steps by 3"
      ]
    },
    {
      "cell_type": "code",
      "execution_count": 23,
      "metadata": {
        "id": "YC8f3lAMPs-4",
        "colab": {
          "base_uri": "https://localhost:8080/"
        },
        "outputId": "82102be1-f891-47f2-c92b-c51aef76107e"
      },
      "outputs": [
        {
          "output_type": "execute_result",
          "data": {
            "text/plain": [
              "2     98\n",
              "5     24\n",
              "8     46\n",
              "11    87\n",
              "14    33\n",
              "dtype: int64"
            ]
          },
          "metadata": {},
          "execution_count": 23
        }
      ],
      "source": [
        "new_index = range(2, 2 + 3*len(pdseries), 3)\n",
        "pdseries_newindex = pd.Series(pdseries.values, index=new_index) # I created a new series so that I can apply the new index\n",
        "pdseries_newindex"
      ]
    },
    {
      "cell_type": "markdown",
      "metadata": {
        "id": "2P199KkwPs-4"
      },
      "source": [
        "4. Create a dictionary of 4 names, ages, and careers   \n",
        "Convert this dictionary to a pandas dataframe: `df`.  \n",
        "Print the dataframe."
      ]
    },
    {
      "cell_type": "code",
      "execution_count": 24,
      "metadata": {
        "id": "lWoGNi5hPs-5",
        "colab": {
          "base_uri": "https://localhost:8080/"
        },
        "outputId": "bd8f4495-48af-4923-95a3-778a937ebf7b"
      },
      "outputs": [
        {
          "output_type": "stream",
          "name": "stdout",
          "text": [
            "    name  age      career\n",
            "0    Joe   20  unemployed\n",
            "1   John   21  unemployed\n",
            "2  Jason   22  unemployed\n",
            "3   Jake   23  unemployed\n"
          ]
        }
      ],
      "source": [
        "df = pd.DataFrame({\n",
        "    'name': ['Joe', 'John', 'Jason', 'Jake'],\n",
        "    'age': [20, 21, 22, 23],\n",
        "    'career': [\"unemployed\", \"unemployed\", \"unemployed\", \"unemployed\"]\n",
        "})\n",
        "print(df)"
      ]
    },
    {
      "cell_type": "markdown",
      "metadata": {
        "id": "TD-Ej1K_Ps-5"
      },
      "source": [
        "5. Name the index of `df` 'participant_id'.  \n",
        "Print `df`."
      ]
    },
    {
      "cell_type": "code",
      "execution_count": 25,
      "metadata": {
        "id": "_54NO6pRPs-5",
        "colab": {
          "base_uri": "https://localhost:8080/"
        },
        "outputId": "32064fe0-ddea-4bc4-e992-542cc899e31b"
      },
      "outputs": [
        {
          "output_type": "stream",
          "name": "stdout",
          "text": [
            "                 name  age      career\n",
            "participant_id                        \n",
            "0                 Joe   20  unemployed\n",
            "1                John   21  unemployed\n",
            "2               Jason   22  unemployed\n",
            "3                Jake   23  unemployed\n"
          ]
        }
      ],
      "source": [
        "df.index.name = 'participant_id'\n",
        "print(df)"
      ]
    },
    {
      "cell_type": "markdown",
      "metadata": {
        "id": "-JXKN55IPs-5"
      },
      "source": [
        "6. Use a pandas function to determine the data types of the columns of `df`."
      ]
    },
    {
      "cell_type": "code",
      "execution_count": 26,
      "metadata": {
        "id": "pmbPdPYmPs-5",
        "colab": {
          "base_uri": "https://localhost:8080/"
        },
        "outputId": "fdd703cd-2db7-4598-e585-8989c488eb94"
      },
      "outputs": [
        {
          "output_type": "execute_result",
          "data": {
            "text/plain": [
              "name      object\n",
              "age        int64\n",
              "career    object\n",
              "dtype: object"
            ]
          },
          "metadata": {},
          "execution_count": 26
        }
      ],
      "source": [
        "df.dtypes"
      ]
    },
    {
      "cell_type": "markdown",
      "metadata": {
        "id": "67Yv1vrcPs-5"
      },
      "source": [
        "7. Using bracket notation, reference column `name`"
      ]
    },
    {
      "cell_type": "code",
      "execution_count": 27,
      "metadata": {
        "id": "KvYDyocgPs-6",
        "colab": {
          "base_uri": "https://localhost:8080/"
        },
        "outputId": "aa011f28-450b-48c5-97ed-5caf1dfa20e9"
      },
      "outputs": [
        {
          "output_type": "execute_result",
          "data": {
            "text/plain": [
              "participant_id\n",
              "0      Joe\n",
              "1     John\n",
              "2    Jason\n",
              "3     Jake\n",
              "Name: name, dtype: object"
            ]
          },
          "metadata": {},
          "execution_count": 27
        }
      ],
      "source": [
        "df['name']"
      ]
    },
    {
      "cell_type": "markdown",
      "metadata": {
        "id": "m3cxo1_DPs-6"
      },
      "source": [
        "8. Using dot notation, reference column `name`"
      ]
    },
    {
      "cell_type": "code",
      "execution_count": 28,
      "metadata": {
        "id": "1GWDNZpDPs-6",
        "colab": {
          "base_uri": "https://localhost:8080/"
        },
        "outputId": "0dd47915-c864-4abd-9901-1c01745708e7"
      },
      "outputs": [
        {
          "output_type": "execute_result",
          "data": {
            "text/plain": [
              "participant_id\n",
              "0      Joe\n",
              "1     John\n",
              "2    Jason\n",
              "3     Jake\n",
              "Name: name, dtype: object"
            ]
          },
          "metadata": {},
          "execution_count": 28
        }
      ],
      "source": [
        "df.name"
      ]
    },
    {
      "cell_type": "markdown",
      "metadata": {
        "id": "QXcydAo-Ps-6"
      },
      "source": [
        "8. Reference column `name` and have it returned in a dataframe."
      ]
    },
    {
      "cell_type": "code",
      "execution_count": 29,
      "metadata": {
        "id": "Es6jw5eKPs-6",
        "colab": {
          "base_uri": "https://localhost:8080/"
        },
        "outputId": "a100765b-d802-4017-b05a-5c1a4e8eaa2f"
      },
      "outputs": [
        {
          "output_type": "stream",
          "name": "stdout",
          "text": [
            "                 name\n",
            "participant_id       \n",
            "0                 Joe\n",
            "1                John\n",
            "2               Jason\n",
            "3                Jake\n"
          ]
        }
      ],
      "source": [
        "namedf = df[['name']]\n",
        "print(namedf)"
      ]
    },
    {
      "cell_type": "markdown",
      "metadata": {
        "id": "FGvwXkmsPs-6"
      },
      "source": [
        "9. Show the 3rd element in column `career`."
      ]
    },
    {
      "cell_type": "code",
      "execution_count": 30,
      "metadata": {
        "id": "9DFRMXJ-Ps-6",
        "colab": {
          "base_uri": "https://localhost:8080/",
          "height": 35
        },
        "outputId": "119666a8-d71b-4eb8-905d-8d3b9422ee0d"
      },
      "outputs": [
        {
          "output_type": "execute_result",
          "data": {
            "text/plain": [
              "'unemployed'"
            ],
            "application/vnd.google.colaboratory.intrinsic+json": {
              "type": "string"
            }
          },
          "metadata": {},
          "execution_count": 30
        }
      ],
      "source": [
        "df.career.iloc[2]"
      ]
    },
    {
      "cell_type": "markdown",
      "source": [
        "10.  Load the `iris` dataset that we used in class.  Use `iris` as the name of your data frame."
      ],
      "metadata": {
        "id": "rRH599bKtjbE"
      }
    },
    {
      "cell_type": "code",
      "source": [
        "import seaborn as sns\n",
        "iris = sns.load_dataset('iris')\n",
        "iris"
      ],
      "metadata": {
        "id": "zzf2X8hptu02",
        "colab": {
          "base_uri": "https://localhost:8080/",
          "height": 424
        },
        "outputId": "8a745e97-15b1-42ef-e16b-02effdbf8e64"
      },
      "execution_count": 31,
      "outputs": [
        {
          "output_type": "execute_result",
          "data": {
            "text/plain": [
              "     sepal_length  sepal_width  petal_length  petal_width    species\n",
              "0             5.1          3.5           1.4          0.2     setosa\n",
              "1             4.9          3.0           1.4          0.2     setosa\n",
              "2             4.7          3.2           1.3          0.2     setosa\n",
              "3             4.6          3.1           1.5          0.2     setosa\n",
              "4             5.0          3.6           1.4          0.2     setosa\n",
              "..            ...          ...           ...          ...        ...\n",
              "145           6.7          3.0           5.2          2.3  virginica\n",
              "146           6.3          2.5           5.0          1.9  virginica\n",
              "147           6.5          3.0           5.2          2.0  virginica\n",
              "148           6.2          3.4           5.4          2.3  virginica\n",
              "149           5.9          3.0           5.1          1.8  virginica\n",
              "\n",
              "[150 rows x 5 columns]"
            ],
            "text/html": [
              "\n",
              "  <div id=\"df-38c91af8-3c2b-40af-8a41-3da0f8bbce31\" class=\"colab-df-container\">\n",
              "    <div>\n",
              "<style scoped>\n",
              "    .dataframe tbody tr th:only-of-type {\n",
              "        vertical-align: middle;\n",
              "    }\n",
              "\n",
              "    .dataframe tbody tr th {\n",
              "        vertical-align: top;\n",
              "    }\n",
              "\n",
              "    .dataframe thead th {\n",
              "        text-align: right;\n",
              "    }\n",
              "</style>\n",
              "<table border=\"1\" class=\"dataframe\">\n",
              "  <thead>\n",
              "    <tr style=\"text-align: right;\">\n",
              "      <th></th>\n",
              "      <th>sepal_length</th>\n",
              "      <th>sepal_width</th>\n",
              "      <th>petal_length</th>\n",
              "      <th>petal_width</th>\n",
              "      <th>species</th>\n",
              "    </tr>\n",
              "  </thead>\n",
              "  <tbody>\n",
              "    <tr>\n",
              "      <th>0</th>\n",
              "      <td>5.1</td>\n",
              "      <td>3.5</td>\n",
              "      <td>1.4</td>\n",
              "      <td>0.2</td>\n",
              "      <td>setosa</td>\n",
              "    </tr>\n",
              "    <tr>\n",
              "      <th>1</th>\n",
              "      <td>4.9</td>\n",
              "      <td>3.0</td>\n",
              "      <td>1.4</td>\n",
              "      <td>0.2</td>\n",
              "      <td>setosa</td>\n",
              "    </tr>\n",
              "    <tr>\n",
              "      <th>2</th>\n",
              "      <td>4.7</td>\n",
              "      <td>3.2</td>\n",
              "      <td>1.3</td>\n",
              "      <td>0.2</td>\n",
              "      <td>setosa</td>\n",
              "    </tr>\n",
              "    <tr>\n",
              "      <th>3</th>\n",
              "      <td>4.6</td>\n",
              "      <td>3.1</td>\n",
              "      <td>1.5</td>\n",
              "      <td>0.2</td>\n",
              "      <td>setosa</td>\n",
              "    </tr>\n",
              "    <tr>\n",
              "      <th>4</th>\n",
              "      <td>5.0</td>\n",
              "      <td>3.6</td>\n",
              "      <td>1.4</td>\n",
              "      <td>0.2</td>\n",
              "      <td>setosa</td>\n",
              "    </tr>\n",
              "    <tr>\n",
              "      <th>...</th>\n",
              "      <td>...</td>\n",
              "      <td>...</td>\n",
              "      <td>...</td>\n",
              "      <td>...</td>\n",
              "      <td>...</td>\n",
              "    </tr>\n",
              "    <tr>\n",
              "      <th>145</th>\n",
              "      <td>6.7</td>\n",
              "      <td>3.0</td>\n",
              "      <td>5.2</td>\n",
              "      <td>2.3</td>\n",
              "      <td>virginica</td>\n",
              "    </tr>\n",
              "    <tr>\n",
              "      <th>146</th>\n",
              "      <td>6.3</td>\n",
              "      <td>2.5</td>\n",
              "      <td>5.0</td>\n",
              "      <td>1.9</td>\n",
              "      <td>virginica</td>\n",
              "    </tr>\n",
              "    <tr>\n",
              "      <th>147</th>\n",
              "      <td>6.5</td>\n",
              "      <td>3.0</td>\n",
              "      <td>5.2</td>\n",
              "      <td>2.0</td>\n",
              "      <td>virginica</td>\n",
              "    </tr>\n",
              "    <tr>\n",
              "      <th>148</th>\n",
              "      <td>6.2</td>\n",
              "      <td>3.4</td>\n",
              "      <td>5.4</td>\n",
              "      <td>2.3</td>\n",
              "      <td>virginica</td>\n",
              "    </tr>\n",
              "    <tr>\n",
              "      <th>149</th>\n",
              "      <td>5.9</td>\n",
              "      <td>3.0</td>\n",
              "      <td>5.1</td>\n",
              "      <td>1.8</td>\n",
              "      <td>virginica</td>\n",
              "    </tr>\n",
              "  </tbody>\n",
              "</table>\n",
              "<p>150 rows × 5 columns</p>\n",
              "</div>\n",
              "    <div class=\"colab-df-buttons\">\n",
              "\n",
              "  <div class=\"colab-df-container\">\n",
              "    <button class=\"colab-df-convert\" onclick=\"convertToInteractive('df-38c91af8-3c2b-40af-8a41-3da0f8bbce31')\"\n",
              "            title=\"Convert this dataframe to an interactive table.\"\n",
              "            style=\"display:none;\">\n",
              "\n",
              "  <svg xmlns=\"http://www.w3.org/2000/svg\" height=\"24px\" viewBox=\"0 -960 960 960\">\n",
              "    <path d=\"M120-120v-720h720v720H120Zm60-500h600v-160H180v160Zm220 220h160v-160H400v160Zm0 220h160v-160H400v160ZM180-400h160v-160H180v160Zm440 0h160v-160H620v160ZM180-180h160v-160H180v160Zm440 0h160v-160H620v160Z\"/>\n",
              "  </svg>\n",
              "    </button>\n",
              "\n",
              "  <style>\n",
              "    .colab-df-container {\n",
              "      display:flex;\n",
              "      gap: 12px;\n",
              "    }\n",
              "\n",
              "    .colab-df-convert {\n",
              "      background-color: #E8F0FE;\n",
              "      border: none;\n",
              "      border-radius: 50%;\n",
              "      cursor: pointer;\n",
              "      display: none;\n",
              "      fill: #1967D2;\n",
              "      height: 32px;\n",
              "      padding: 0 0 0 0;\n",
              "      width: 32px;\n",
              "    }\n",
              "\n",
              "    .colab-df-convert:hover {\n",
              "      background-color: #E2EBFA;\n",
              "      box-shadow: 0px 1px 2px rgba(60, 64, 67, 0.3), 0px 1px 3px 1px rgba(60, 64, 67, 0.15);\n",
              "      fill: #174EA6;\n",
              "    }\n",
              "\n",
              "    .colab-df-buttons div {\n",
              "      margin-bottom: 4px;\n",
              "    }\n",
              "\n",
              "    [theme=dark] .colab-df-convert {\n",
              "      background-color: #3B4455;\n",
              "      fill: #D2E3FC;\n",
              "    }\n",
              "\n",
              "    [theme=dark] .colab-df-convert:hover {\n",
              "      background-color: #434B5C;\n",
              "      box-shadow: 0px 1px 3px 1px rgba(0, 0, 0, 0.15);\n",
              "      filter: drop-shadow(0px 1px 2px rgba(0, 0, 0, 0.3));\n",
              "      fill: #FFFFFF;\n",
              "    }\n",
              "  </style>\n",
              "\n",
              "    <script>\n",
              "      const buttonEl =\n",
              "        document.querySelector('#df-38c91af8-3c2b-40af-8a41-3da0f8bbce31 button.colab-df-convert');\n",
              "      buttonEl.style.display =\n",
              "        google.colab.kernel.accessAllowed ? 'block' : 'none';\n",
              "\n",
              "      async function convertToInteractive(key) {\n",
              "        const element = document.querySelector('#df-38c91af8-3c2b-40af-8a41-3da0f8bbce31');\n",
              "        const dataTable =\n",
              "          await google.colab.kernel.invokeFunction('convertToInteractive',\n",
              "                                                    [key], {});\n",
              "        if (!dataTable) return;\n",
              "\n",
              "        const docLinkHtml = 'Like what you see? Visit the ' +\n",
              "          '<a target=\"_blank\" href=https://colab.research.google.com/notebooks/data_table.ipynb>data table notebook</a>'\n",
              "          + ' to learn more about interactive tables.';\n",
              "        element.innerHTML = '';\n",
              "        dataTable['output_type'] = 'display_data';\n",
              "        await google.colab.output.renderOutput(dataTable, element);\n",
              "        const docLink = document.createElement('div');\n",
              "        docLink.innerHTML = docLinkHtml;\n",
              "        element.appendChild(docLink);\n",
              "      }\n",
              "    </script>\n",
              "  </div>\n",
              "\n",
              "\n",
              "<div id=\"df-0d6ae523-862d-44dc-bdbd-7fb88ecaaa80\">\n",
              "  <button class=\"colab-df-quickchart\" onclick=\"quickchart('df-0d6ae523-862d-44dc-bdbd-7fb88ecaaa80')\"\n",
              "            title=\"Suggest charts\"\n",
              "            style=\"display:none;\">\n",
              "\n",
              "<svg xmlns=\"http://www.w3.org/2000/svg\" height=\"24px\"viewBox=\"0 0 24 24\"\n",
              "     width=\"24px\">\n",
              "    <g>\n",
              "        <path d=\"M19 3H5c-1.1 0-2 .9-2 2v14c0 1.1.9 2 2 2h14c1.1 0 2-.9 2-2V5c0-1.1-.9-2-2-2zM9 17H7v-7h2v7zm4 0h-2V7h2v10zm4 0h-2v-4h2v4z\"/>\n",
              "    </g>\n",
              "</svg>\n",
              "  </button>\n",
              "\n",
              "<style>\n",
              "  .colab-df-quickchart {\n",
              "      --bg-color: #E8F0FE;\n",
              "      --fill-color: #1967D2;\n",
              "      --hover-bg-color: #E2EBFA;\n",
              "      --hover-fill-color: #174EA6;\n",
              "      --disabled-fill-color: #AAA;\n",
              "      --disabled-bg-color: #DDD;\n",
              "  }\n",
              "\n",
              "  [theme=dark] .colab-df-quickchart {\n",
              "      --bg-color: #3B4455;\n",
              "      --fill-color: #D2E3FC;\n",
              "      --hover-bg-color: #434B5C;\n",
              "      --hover-fill-color: #FFFFFF;\n",
              "      --disabled-bg-color: #3B4455;\n",
              "      --disabled-fill-color: #666;\n",
              "  }\n",
              "\n",
              "  .colab-df-quickchart {\n",
              "    background-color: var(--bg-color);\n",
              "    border: none;\n",
              "    border-radius: 50%;\n",
              "    cursor: pointer;\n",
              "    display: none;\n",
              "    fill: var(--fill-color);\n",
              "    height: 32px;\n",
              "    padding: 0;\n",
              "    width: 32px;\n",
              "  }\n",
              "\n",
              "  .colab-df-quickchart:hover {\n",
              "    background-color: var(--hover-bg-color);\n",
              "    box-shadow: 0 1px 2px rgba(60, 64, 67, 0.3), 0 1px 3px 1px rgba(60, 64, 67, 0.15);\n",
              "    fill: var(--button-hover-fill-color);\n",
              "  }\n",
              "\n",
              "  .colab-df-quickchart-complete:disabled,\n",
              "  .colab-df-quickchart-complete:disabled:hover {\n",
              "    background-color: var(--disabled-bg-color);\n",
              "    fill: var(--disabled-fill-color);\n",
              "    box-shadow: none;\n",
              "  }\n",
              "\n",
              "  .colab-df-spinner {\n",
              "    border: 2px solid var(--fill-color);\n",
              "    border-color: transparent;\n",
              "    border-bottom-color: var(--fill-color);\n",
              "    animation:\n",
              "      spin 1s steps(1) infinite;\n",
              "  }\n",
              "\n",
              "  @keyframes spin {\n",
              "    0% {\n",
              "      border-color: transparent;\n",
              "      border-bottom-color: var(--fill-color);\n",
              "      border-left-color: var(--fill-color);\n",
              "    }\n",
              "    20% {\n",
              "      border-color: transparent;\n",
              "      border-left-color: var(--fill-color);\n",
              "      border-top-color: var(--fill-color);\n",
              "    }\n",
              "    30% {\n",
              "      border-color: transparent;\n",
              "      border-left-color: var(--fill-color);\n",
              "      border-top-color: var(--fill-color);\n",
              "      border-right-color: var(--fill-color);\n",
              "    }\n",
              "    40% {\n",
              "      border-color: transparent;\n",
              "      border-right-color: var(--fill-color);\n",
              "      border-top-color: var(--fill-color);\n",
              "    }\n",
              "    60% {\n",
              "      border-color: transparent;\n",
              "      border-right-color: var(--fill-color);\n",
              "    }\n",
              "    80% {\n",
              "      border-color: transparent;\n",
              "      border-right-color: var(--fill-color);\n",
              "      border-bottom-color: var(--fill-color);\n",
              "    }\n",
              "    90% {\n",
              "      border-color: transparent;\n",
              "      border-bottom-color: var(--fill-color);\n",
              "    }\n",
              "  }\n",
              "</style>\n",
              "\n",
              "  <script>\n",
              "    async function quickchart(key) {\n",
              "      const quickchartButtonEl =\n",
              "        document.querySelector('#' + key + ' button');\n",
              "      quickchartButtonEl.disabled = true;  // To prevent multiple clicks.\n",
              "      quickchartButtonEl.classList.add('colab-df-spinner');\n",
              "      try {\n",
              "        const charts = await google.colab.kernel.invokeFunction(\n",
              "            'suggestCharts', [key], {});\n",
              "      } catch (error) {\n",
              "        console.error('Error during call to suggestCharts:', error);\n",
              "      }\n",
              "      quickchartButtonEl.classList.remove('colab-df-spinner');\n",
              "      quickchartButtonEl.classList.add('colab-df-quickchart-complete');\n",
              "    }\n",
              "    (() => {\n",
              "      let quickchartButtonEl =\n",
              "        document.querySelector('#df-0d6ae523-862d-44dc-bdbd-7fb88ecaaa80 button');\n",
              "      quickchartButtonEl.style.display =\n",
              "        google.colab.kernel.accessAllowed ? 'block' : 'none';\n",
              "    })();\n",
              "  </script>\n",
              "</div>\n",
              "    </div>\n",
              "  </div>\n"
            ],
            "application/vnd.google.colaboratory.intrinsic+json": {
              "type": "dataframe",
              "variable_name": "iris",
              "summary": "{\n  \"name\": \"iris\",\n  \"rows\": 150,\n  \"fields\": [\n    {\n      \"column\": \"sepal_length\",\n      \"properties\": {\n        \"dtype\": \"number\",\n        \"std\": 0.828066127977863,\n        \"min\": 4.3,\n        \"max\": 7.9,\n        \"num_unique_values\": 35,\n        \"samples\": [\n          6.2,\n          4.5,\n          5.6\n        ],\n        \"semantic_type\": \"\",\n        \"description\": \"\"\n      }\n    },\n    {\n      \"column\": \"sepal_width\",\n      \"properties\": {\n        \"dtype\": \"number\",\n        \"std\": 0.4358662849366982,\n        \"min\": 2.0,\n        \"max\": 4.4,\n        \"num_unique_values\": 23,\n        \"samples\": [\n          2.3,\n          4.0,\n          3.5\n        ],\n        \"semantic_type\": \"\",\n        \"description\": \"\"\n      }\n    },\n    {\n      \"column\": \"petal_length\",\n      \"properties\": {\n        \"dtype\": \"number\",\n        \"std\": 1.7652982332594662,\n        \"min\": 1.0,\n        \"max\": 6.9,\n        \"num_unique_values\": 43,\n        \"samples\": [\n          6.7,\n          3.8,\n          3.7\n        ],\n        \"semantic_type\": \"\",\n        \"description\": \"\"\n      }\n    },\n    {\n      \"column\": \"petal_width\",\n      \"properties\": {\n        \"dtype\": \"number\",\n        \"std\": 0.7622376689603465,\n        \"min\": 0.1,\n        \"max\": 2.5,\n        \"num_unique_values\": 22,\n        \"samples\": [\n          0.2,\n          1.2,\n          1.3\n        ],\n        \"semantic_type\": \"\",\n        \"description\": \"\"\n      }\n    },\n    {\n      \"column\": \"species\",\n      \"properties\": {\n        \"dtype\": \"category\",\n        \"num_unique_values\": 3,\n        \"samples\": [\n          \"setosa\",\n          \"versicolor\",\n          \"virginica\"\n        ],\n        \"semantic_type\": \"\",\n        \"description\": \"\"\n      }\n    }\n  ]\n}"
            }
          },
          "metadata": {},
          "execution_count": 31
        }
      ]
    },
    {
      "cell_type": "markdown",
      "source": [
        "11.  What is the correlation between the variables `sepal_length` and `sepal_width` for all the irises?"
      ],
      "metadata": {
        "id": "AKz6-jVWtvSB"
      }
    },
    {
      "cell_type": "code",
      "source": [
        "iris['sepal_length'].corr(iris['sepal_width'])"
      ],
      "metadata": {
        "id": "hee42cCiuUaQ",
        "colab": {
          "base_uri": "https://localhost:8080/"
        },
        "outputId": "1e57988c-00b8-4d50-b387-56bd9ae7e329"
      },
      "execution_count": 32,
      "outputs": [
        {
          "output_type": "execute_result",
          "data": {
            "text/plain": [
              "-0.11756978413300208"
            ]
          },
          "metadata": {},
          "execution_count": 32
        }
      ]
    },
    {
      "cell_type": "markdown",
      "source": [
        "12.  Which of the three species has the highest correlation between `sepal_length` and `sepal_width`?  Show any calculations you use to support your answer."
      ],
      "metadata": {
        "id": "0FftiYs-uU0S"
      }
    },
    {
      "cell_type": "code",
      "source": [
        "# iris[iris['species'] == 'setosa']: This part filters the data frame to only include rows where the species column equals 'setosa'.\n",
        "# ['sepal_length']: This part selects the 'sepal_length' column from the filtered DataFrame.\n",
        "# The .corr() function calculates the correlation coefficient between two series.\n",
        "# iris[iris['species'] == 'setosa']['sepal_width']: This part filters the data frame for 'setosa' and selects the 'sepal_width' column.\n",
        "# The same logic applies to the correlation calculation process for \"versicolor\" and \"virginica\"\n",
        "\n",
        "setosa_correlation = iris[iris['species'] == 'setosa']['sepal_length'].corr(iris[iris['species'] == 'setosa']['sepal_width'])\n",
        "print(\"Setosa:\",setosa_correlation)\n",
        "\n",
        "versicolor_correlation = iris[iris['species'] == 'versicolor']['sepal_length'].corr(iris[iris['species'] == 'versicolor']['sepal_width'])\n",
        "print(\"Versicolor:\",versicolor_correlation)\n",
        "\n",
        "virginica_correlation = iris[iris['species'] == 'virginica']['sepal_length'].corr(iris[iris['species'] == 'virginica']['sepal_width'])\n",
        "print(\"Vriginica:\",virginica_correlation)\n",
        "\n",
        "# I made a dictionary where the keys are the species and the values are the correlation I calculated above.\n",
        "correlations = {\n",
        "    \"Setosa\": setosa_correlation,\n",
        "    \"Versicolor\": versicolor_correlation,\n",
        "    \"Virginica\": virginica_correlation\n",
        "}\n",
        "\n",
        "# The following finds the species with the highest correlation using the max() function.\n",
        "highest_correlation_species = max(correlations, key=correlations.get)\n",
        "highest_correlation_value = correlations[highest_correlation_species]\n",
        "\n",
        "print(f\"The species with the highest correlation between sepal_length and sepal_width is {highest_correlation_species} with a correlation of {highest_correlation_value}\")"
      ],
      "metadata": {
        "id": "TFGICsBQulQ-",
        "colab": {
          "base_uri": "https://localhost:8080/"
        },
        "outputId": "5a7967bd-bc1c-40cd-cd3f-c7faefd8d3a2"
      },
      "execution_count": 33,
      "outputs": [
        {
          "output_type": "stream",
          "name": "stdout",
          "text": [
            "Setosa: 0.7425466856651597\n",
            "Versicolor: 0.5259107172828243\n",
            "Vriginica: 0.4572278163941129\n",
            "The species with the highest correlation between sepal_length and sepal_width is Setosa with a correlation of 0.7425466856651597\n"
          ]
        }
      ]
    },
    {
      "cell_type": "markdown",
      "source": [
        "13.  Among the four variables, the two that are most negatively correlated (overall) are `sepal_width` and `petal_length`.  (How do we know this?)  Determine the same thing but for each species separately:  for each species, which two variables have the most negative correlation?  Again, include calculations to support your answer."
      ],
      "metadata": {
        "id": "ZEwy0920u1NY"
      }
    },
    {
      "cell_type": "code",
      "source": [
        "# This block of code is to prove that sepal_width and petal_length are the most negatively correlated variables.\n",
        "# Answering the question, \"How do we know this?\"\n",
        "\n",
        "# The following 6 lines of code identifies the correlation for each combination of variables.\n",
        "sl_sw = iris['sepal_length'].corr(iris['sepal_width'])\n",
        "sl_pl = iris['sepal_length'].corr(iris['petal_length'])\n",
        "sl_pw = iris['sepal_length'].corr(iris['petal_width'])\n",
        "sw_pl = iris['sepal_width'].corr(iris['petal_length'])\n",
        "sw_pw = iris['sepal_width'].corr(iris['petal_width'])\n",
        "pl_pw = iris['petal_length'].corr(iris['petal_width'])\n",
        "\n",
        "# I created a dictionary to later choose the combination with the most negative correlation.\n",
        "# The keys are the variables combination and the values are the correlation values.\n",
        "correlations_v = {\n",
        "    \"sepal.length.sepal.width\": sl_sw,\n",
        "    \"sepal.length.petal.length\": sl_pl,\n",
        "    \"sepal.length.petal.width\": sl_pw,\n",
        "    \"sepal.width.petal.length\": sw_pl,\n",
        "    \"sepal.width.petal.width\": sw_pw,\n",
        "    \"petal.length.petal.width\": pl_pw\n",
        "}\n",
        "\n",
        "# This finds the combination with the lowest correlation\n",
        "lowest_correlated_variables = min(correlations_v, key=correlations_v.get)\n",
        "lowest_correlated_variables_value = correlations_v[lowest_correlated_variables]\n",
        "\n",
        "print(f\"The variables with the lowest correlation are {lowest_correlated_variables} with a correlation of {lowest_correlated_variables_value}\")\n"
      ],
      "metadata": {
        "colab": {
          "base_uri": "https://localhost:8080/"
        },
        "id": "r0j5O7vuOK4R",
        "outputId": "637e52a8-a210-42e0-afbe-c6c94b92f216"
      },
      "execution_count": 34,
      "outputs": [
        {
          "output_type": "stream",
          "name": "stdout",
          "text": [
            "The variables with the lowest correlation are sepal.width.petal.length with a correlation of -0.4284401043305394\n"
          ]
        }
      ]
    },
    {
      "cell_type": "code",
      "source": [
        "# This block of code determines, for each species, which two variables have the most negative correlation\n",
        "\n",
        "# Identical to question 12, the first line includes rows where the column equals Setosa.\n",
        "# I created a new data frame called setosa_data that only includes data about Setosa.\n",
        "# The second line calculates the correlation between variables for Setosa.\n",
        "# The third line uses the .unstack() function which reshapes the setosa_corr DataFrame\n",
        "# from a matrix into a series. Each element represents the correlation between a pair of variables.\n",
        "# I learned about the unstack() function from the following url https://pandas.pydata.org/docs/reference/api/pandas.DataFrame.unstack.html\n",
        "# In The fourth code, idxmin() function is used to find the index (the pair of variables) that has the smallest correlation.\n",
        "# The fifth code uses the min() function to return the minimum value within the pairs_setosa (third line)\n",
        "# I used the same logic for the other two species. #Question for Grace: Is this possible without using the .unstack() method?\n",
        "\n",
        "setosa_data = iris[iris['species'] == 'setosa']\n",
        "setosa_corr = setosa_data.corr()\n",
        "pairs_setosa = setosa_corr.unstack()\n",
        "lowest_pair_setosa = pairs_setosa.idxmin()\n",
        "lowest_value_setosa = pairs_setosa.min()\n",
        "print(f\"The two variables in Setosa with the lowest correlation are {lowest_pair_setosa} with a correlation of {lowest_value_setosa}\")\n",
        "\n",
        "\n",
        "\n",
        "versicolor_data = iris[iris['species'] == 'versicolor']\n",
        "versicolor_corr = versicolor_data.corr()\n",
        "pairs_versicolor = versicolor_corr.unstack()\n",
        "lowest_pair_versicolor = pairs_versicolor.idxmin()\n",
        "lowest_value_versicolor = pairs_versicolor.min()\n",
        "\n",
        "print(f\"The two variables in Versicolor with the lowest correlation are {lowest_pair_versicolor} with a correlation of {lowest_value_versicolor}\")\n",
        "\n",
        "\n",
        "virginica_data = iris[iris['species'] == 'virginica']\n",
        "virginica_corr = virginica_data.corr()\n",
        "pairs_virginica = virginica_corr.unstack()\n",
        "lowest_pair_virginica = pairs_virginica.idxmin()\n",
        "lowest_value_virginica = pairs_virginica.min()\n",
        "\n",
        "print(f\"The two variables in Virginica with the lowest correlation are {lowest_pair_virginica} with a correlation of {lowest_value_virginica}\")"
      ],
      "metadata": {
        "colab": {
          "base_uri": "https://localhost:8080/"
        },
        "id": "E1AHtT8Lqy57",
        "outputId": "fc5a204e-d7d6-482c-c3ee-a8c0b74df899"
      },
      "execution_count": 35,
      "outputs": [
        {
          "output_type": "stream",
          "name": "stdout",
          "text": [
            "The two variables in Setosa with the lowest correlation are ('sepal_width', 'petal_length') with a correlation of 0.1776999667822706\n",
            "The two variables in Versicolor with the lowest correlation are ('sepal_length', 'sepal_width') with a correlation of 0.5259107172828247\n",
            "The two variables in Virginica with the lowest correlation are ('sepal_length', 'petal_width') with a correlation of 0.2811077091573193\n"
          ]
        },
        {
          "output_type": "stream",
          "name": "stderr",
          "text": [
            "<ipython-input-35-855c8254f9e3>:14: FutureWarning: The default value of numeric_only in DataFrame.corr is deprecated. In a future version, it will default to False. Select only valid columns or specify the value of numeric_only to silence this warning.\n",
            "  setosa_corr = setosa_data.corr()\n",
            "<ipython-input-35-855c8254f9e3>:23: FutureWarning: The default value of numeric_only in DataFrame.corr is deprecated. In a future version, it will default to False. Select only valid columns or specify the value of numeric_only to silence this warning.\n",
            "  versicolor_corr = versicolor_data.corr()\n",
            "<ipython-input-35-855c8254f9e3>:32: FutureWarning: The default value of numeric_only in DataFrame.corr is deprecated. In a future version, it will default to False. Select only valid columns or specify the value of numeric_only to silence this warning.\n",
            "  virginica_corr = virginica_data.corr()\n"
          ]
        }
      ]
    },
    {
      "cell_type": "markdown",
      "source": [
        "14.  Once again, the variables sepal_width and petal_length are negatively correlated. But for each individual species, these two variables are positively correlated. How is this possible? Explain this phenomenon. Use a data visualization if it helps.\n"
      ],
      "metadata": {
        "id": "cK_OhSaRvxhE"
      }
    },
    {
      "cell_type": "code",
      "source": [
        "# Within each species, sepal_width and petal_length may be positively correlated.\n",
        "# This means that species with wider sepals tend to have longer petals.\n",
        "# However, when the data are not divided by species, sepal_width and petal_length may be negatively correlated.\n",
        "# This means that one species might have wider sepals and longer petals, while another species might have narrower sepals and shorter petals.\n",
        "# When all species are combined, the differences between species might overshadow the within-species correlations.\n",
        "# The overall data might then show a negative correlation between sepal width and petal length\n",
        "# This contrasts the positive correlation between the two variables within each species."
      ],
      "metadata": {
        "id": "H4_QQDWHwJ3t"
      },
      "execution_count": 36,
      "outputs": []
    }
  ],
  "metadata": {
    "kernelspec": {
      "display_name": "Python 3.8.9 64-bit",
      "language": "python",
      "name": "python3"
    },
    "language_info": {
      "codemirror_mode": {
        "name": "ipython",
        "version": 3
      },
      "file_extension": ".py",
      "mimetype": "text/x-python",
      "name": "python",
      "nbconvert_exporter": "python",
      "pygments_lexer": "ipython3",
      "version": "3.8.9"
    },
    "orig_nbformat": 4,
    "vscode": {
      "interpreter": {
        "hash": "31f2aee4e71d21fbe5cf8b01ff0e069b9275f58929596ceb00d14d90e3e16cd6"
      }
    },
    "colab": {
      "provenance": [],
      "include_colab_link": true
    }
  },
  "nbformat": 4,
  "nbformat_minor": 0
}