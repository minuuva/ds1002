{
  "nbformat": 4,
  "nbformat_minor": 0,
  "metadata": {
    "colab": {
      "provenance": [],
      "authorship_tag": "ABX9TyN0dB4+ewi8NWnrT7NU27vF",
      "include_colab_link": true
    },
    "kernelspec": {
      "name": "python3",
      "display_name": "Python 3"
    },
    "language_info": {
      "name": "python"
    }
  },
  "cells": [
    {
      "cell_type": "markdown",
      "metadata": {
        "id": "view-in-github",
        "colab_type": "text"
      },
      "source": [
        "<a href=\"https://colab.research.google.com/github/minuuva/ds1002/blob/main/Minu_Choi_DS_1002_HW_3_Feb_12.ipynb\" target=\"_parent\"><img src=\"https://colab.research.google.com/assets/colab-badge.svg\" alt=\"Open In Colab\"/></a>"
      ]
    },
    {
      "cell_type": "markdown",
      "source": [
        "It took approximately 90 minutes to complete this assignment. (Not in one sitting)."
      ],
      "metadata": {
        "id": "yLVN6EjFcHMh"
      }
    },
    {
      "cell_type": "code",
      "execution_count": 4,
      "metadata": {
        "colab": {
          "base_uri": "https://localhost:8080/"
        },
        "id": "wC35dnGKHFrO",
        "outputId": "edc1383f-a9c8-4b10-d7fa-517e29b19b18"
      },
      "outputs": [
        {
          "output_type": "stream",
          "name": "stdout",
          "text": [
            "Requirement already satisfied: numpy in /usr/local/lib/python3.10/dist-packages (1.23.5)\n"
          ]
        }
      ],
      "source": [
        "!pip install numpy"
      ]
    },
    {
      "cell_type": "code",
      "source": [
        "import numpy as np"
      ],
      "metadata": {
        "id": "aDQt3I7oZi5o"
      },
      "execution_count": 6,
      "outputs": []
    },
    {
      "cell_type": "code",
      "source": [
        "def guess_random_number():\n",
        "    random_number = np.random.randint(0, 100)\n",
        "    number_of_guesses = 0\n",
        "\n",
        "    while True:\n",
        "        user_guess = input(\"Guess a number between 0 and 100:\")\n",
        "\n",
        "        try:\n",
        "            user_guess = int(user_guess)\n",
        "\n",
        "            if user_guess < 0 or user_guess > 100:\n",
        "                print(\"Enter a number between 0 and 100.\")\n",
        "                continue\n",
        "\n",
        "            number_of_guesses += 1\n",
        "\n",
        "            if user_guess == random_number:\n",
        "                print(f\"You got it! It was {random_number}.\")\n",
        "                print(f\"It took you {number_of_guesses} guesses!\")\n",
        "                break\n",
        "\n",
        "            elif user_guess < random_number:\n",
        "                print(\"Too low!\")\n",
        "\n",
        "            else:\n",
        "                print(\"Too high!\")\n",
        "\n",
        "        except ValueError:\n",
        "            print(\"Enter a valid integer.\")\n",
        "\n",
        "guess_random_number()"
      ],
      "metadata": {
        "colab": {
          "base_uri": "https://localhost:8080/"
        },
        "id": "WyiFR-Y4hxkJ",
        "outputId": "1d65918a-c851-4200-dca1-e305ce3ba5e2"
      },
      "execution_count": 76,
      "outputs": [
        {
          "output_type": "stream",
          "name": "stdout",
          "text": [
            "Guess a number between 0 and 100:-50\n",
            "Enter a number between 0 and 100.\n",
            "Guess a number between 0 and 100:150\n",
            "Enter a number between 0 and 100.\n",
            "Guess a number between 0 and 100:50.5\n",
            "Enter a valid integer.\n",
            "Guess a number between 0 and 100:50\n",
            "Too low!\n",
            "Guess a number between 0 and 100:70\n",
            "Too low!\n",
            "Guess a number between 0 and 100:85\n",
            "Too low!\n",
            "Guess a number between 0 and 100:95\n",
            "Too high!\n",
            "Guess a number between 0 and 100:90\n",
            "Too low!\n",
            "Guess a number between 0 and 100:92\n",
            "Too low!\n",
            "Guess a number between 0 and 100:94\n",
            "Too high!\n",
            "Guess a number between 0 and 100:93\n",
            "You got it! It was 93.\n",
            "It took you 8 guesses!\n"
          ]
        }
      ]
    },
    {
      "cell_type": "markdown",
      "source": [
        "As shown above when the user enters a number less than 0, it returns \"Enter a number between 0 and 100.\" The same occurs when the user enters a number greater than 100. When the user enters a float, it returns \"Enter a valid integer.\" In any case, the game does not stop; it continues until the user enters a valid integer between 0 and 100.\n",
        "\n",
        "\n",
        "When the user correctly guesses the random number, it returns \"You Got it!\" In addition, it displays the random number alongn with the number of guesses taken by the user."
      ],
      "metadata": {
        "id": "B8SGTkhYlEcC"
      }
    }
  ]
}